{
 "cells": [
  {
   "cell_type": "markdown",
   "metadata": {},
   "source": [
    "# Legend"
   ]
  },
  {
   "cell_type": "markdown",
   "metadata": {},
   "source": [
    "### Data\n",
    "https://files.grouplens.org/datasets/movielens/ml-25m.zip\n",
    "\n",
    "### Task\n",
    "Rating prediction for every user"
   ]
  },
  {
   "cell_type": "markdown",
   "metadata": {},
   "source": [
    "# Imports"
   ]
  },
  {
   "cell_type": "code",
   "execution_count": 2,
   "metadata": {},
   "outputs": [],
   "source": [
    "import os\n",
    "import pandas as pd\n",
    "import numpy as np\n",
    "from matplotlib import pyplot as plt\n",
    "import seaborn as sns\n",
    "\n",
    "from sklearn.metrics import mean_absolute_error, mean_squared_error\n",
    "from funk_svd.utils import _timer\n",
    "from funk_svd import SVD"
   ]
  },
  {
   "cell_type": "code",
   "execution_count": 3,
   "metadata": {},
   "outputs": [],
   "source": [
    "sns.set()"
   ]
  },
  {
   "cell_type": "markdown",
   "metadata": {},
   "source": [
    "# Config"
   ]
  },
  {
   "cell_type": "code",
   "execution_count": 7,
   "metadata": {},
   "outputs": [],
   "source": [
    "DATA_FOLDER = os.path.join('data', 'ml-25m')\n",
    "RATINGS_FILENAME = 'ratings.csv'\n",
    "MOVIES_FILENAME = 'movies.csv'\n",
    "LINKS_FILENAME = 'links.csv'\n",
    "TAGS_FILENAME = 'tags.csv'\n",
    "\n",
    "seed = 0"
   ]
  },
  {
   "cell_type": "markdown",
   "metadata": {},
   "source": [
    "# Read Data"
   ]
  },
  {
   "cell_type": "code",
   "execution_count": 19,
   "metadata": {},
   "outputs": [],
   "source": [
    "ratings = pd.read_csv(os.path.join(DATA_FOLDER, RATINGS_FILENAME))"
   ]
  },
  {
   "cell_type": "markdown",
   "metadata": {},
   "source": [
    "# Reduce Memory Usage"
   ]
  },
  {
   "cell_type": "code",
   "execution_count": 20,
   "metadata": {},
   "outputs": [
    {
     "name": "stdout",
     "output_type": "stream",
     "text": [
      "<class 'pandas.core.frame.DataFrame'>\n",
      "RangeIndex: 25000095 entries, 0 to 25000094\n",
      "Data columns (total 4 columns):\n",
      " #   Column     Dtype  \n",
      "---  ------     -----  \n",
      " 0   userId     int64  \n",
      " 1   movieId    int64  \n",
      " 2   rating     float64\n",
      " 3   timestamp  int64  \n",
      "dtypes: float64(1), int64(3)\n",
      "memory usage: 762.9 MB\n"
     ]
    }
   ],
   "source": [
    "ratings.info()"
   ]
  },
  {
   "cell_type": "code",
   "execution_count": 21,
   "metadata": {},
   "outputs": [],
   "source": [
    "#ratings.drop('timestamp', axis=1, inplace=True)\n",
    "ratings['userId'] = pd.to_numeric(ratings['userId'], downcast='integer')\n",
    "ratings['movieId'] = pd.to_numeric(ratings['movieId'], downcast='integer')\n",
    "ratings['rating'] = pd.to_numeric(ratings['rating'], downcast='float')"
   ]
  },
  {
   "cell_type": "code",
   "execution_count": 22,
   "metadata": {},
   "outputs": [
    {
     "name": "stdout",
     "output_type": "stream",
     "text": [
      "<class 'pandas.core.frame.DataFrame'>\n",
      "RangeIndex: 25000095 entries, 0 to 25000094\n",
      "Data columns (total 4 columns):\n",
      " #   Column     Dtype  \n",
      "---  ------     -----  \n",
      " 0   userId     int32  \n",
      " 1   movieId    int32  \n",
      " 2   rating     float32\n",
      " 3   timestamp  int64  \n",
      "dtypes: float32(1), int32(2), int64(1)\n",
      "memory usage: 476.8 MB\n"
     ]
    }
   ],
   "source": [
    "ratings.info()"
   ]
  },
  {
   "cell_type": "markdown",
   "metadata": {},
   "source": [
    "# EDA"
   ]
  },
  {
   "cell_type": "code",
   "execution_count": 23,
   "metadata": {},
   "outputs": [
    {
     "data": {
      "text/html": [
       "<div>\n",
       "<style scoped>\n",
       "    .dataframe tbody tr th:only-of-type {\n",
       "        vertical-align: middle;\n",
       "    }\n",
       "\n",
       "    .dataframe tbody tr th {\n",
       "        vertical-align: top;\n",
       "    }\n",
       "\n",
       "    .dataframe thead th {\n",
       "        text-align: right;\n",
       "    }\n",
       "</style>\n",
       "<table border=\"1\" class=\"dataframe\">\n",
       "  <thead>\n",
       "    <tr style=\"text-align: right;\">\n",
       "      <th></th>\n",
       "      <th>userId</th>\n",
       "      <th>movieId</th>\n",
       "      <th>rating</th>\n",
       "      <th>timestamp</th>\n",
       "    </tr>\n",
       "  </thead>\n",
       "  <tbody>\n",
       "    <tr>\n",
       "      <th>0</th>\n",
       "      <td>1</td>\n",
       "      <td>296</td>\n",
       "      <td>5.0</td>\n",
       "      <td>1147880044</td>\n",
       "    </tr>\n",
       "    <tr>\n",
       "      <th>1</th>\n",
       "      <td>1</td>\n",
       "      <td>306</td>\n",
       "      <td>3.5</td>\n",
       "      <td>1147868817</td>\n",
       "    </tr>\n",
       "    <tr>\n",
       "      <th>2</th>\n",
       "      <td>1</td>\n",
       "      <td>307</td>\n",
       "      <td>5.0</td>\n",
       "      <td>1147868828</td>\n",
       "    </tr>\n",
       "    <tr>\n",
       "      <th>3</th>\n",
       "      <td>1</td>\n",
       "      <td>665</td>\n",
       "      <td>5.0</td>\n",
       "      <td>1147878820</td>\n",
       "    </tr>\n",
       "    <tr>\n",
       "      <th>4</th>\n",
       "      <td>1</td>\n",
       "      <td>899</td>\n",
       "      <td>3.5</td>\n",
       "      <td>1147868510</td>\n",
       "    </tr>\n",
       "  </tbody>\n",
       "</table>\n",
       "</div>"
      ],
      "text/plain": [
       "   userId  movieId  rating   timestamp\n",
       "0       1      296     5.0  1147880044\n",
       "1       1      306     3.5  1147868817\n",
       "2       1      307     5.0  1147868828\n",
       "3       1      665     5.0  1147878820\n",
       "4       1      899     3.5  1147868510"
      ]
     },
     "execution_count": 23,
     "metadata": {},
     "output_type": "execute_result"
    }
   ],
   "source": [
    "ratings.head()"
   ]
  },
  {
   "cell_type": "code",
   "execution_count": 14,
   "metadata": {},
   "outputs": [
    {
     "name": "stdout",
     "output_type": "stream",
     "text": [
      "Unique users:\n",
      "162541\n",
      "Unique movies:\n",
      "59047\n",
      "Ratings count:\n",
      "25000095\n"
     ]
    }
   ],
   "source": [
    "print('Unique users:')\n",
    "print(ratings['userId'].nunique())\n",
    "\n",
    "print('Unique movies:')\n",
    "print(ratings['movieId'].nunique())\n",
    "\n",
    "print('Ratings count:')\n",
    "print(ratings.shape[0])"
   ]
  },
  {
   "cell_type": "code",
   "execution_count": 15,
   "metadata": {},
   "outputs": [
    {
     "name": "stdout",
     "output_type": "stream",
     "text": [
      "Unique ratings:\n",
      "10\n"
     ]
    }
   ],
   "source": [
    "print('Unique ratings:')\n",
    "print(ratings['rating'].nunique())"
   ]
  },
  {
   "cell_type": "code",
   "execution_count": 16,
   "metadata": {},
   "outputs": [
    {
     "data": {
      "image/png": "[encoded data removed]",
      "text/plain": [
       "<Figure size 432x288 with 1 Axes>"
      ]
     },
     "metadata": {},
     "output_type": "display_data"
    }
   ],
   "source": [
    "ratings['rating'].hist()\n",
    "plt.title('Ratings Distribution')\n",
    "plt.show()"
   ]
  },
  {
   "cell_type": "markdown",
   "metadata": {},
   "source": [
    "# Funk SVD for rating prediction"
   ]
  },
  {
   "cell_type": "markdown",
   "metadata": {},
   "source": [
    "## Train Dev Validation Split"
   ]
  },
  {
   "cell_type": "code",
   "execution_count": 38,
   "metadata": {
    "code_folding": []
   },
   "outputs": [],
   "source": [
    "@_timer(text='')\n",
    "def compute_val_test_mask(data, n_rate=4):\n",
    "    \"\"\"n_rate last reitings for test\"\"\"\n",
    "    data['rank'] = data.groupby('userId')['timestamp'].rank(method=\"first\", ascending=False)\n",
    "    return data[data['rank'] <= n_rate].index.tolist()"
   ]
  },
  {
   "cell_type": "code",
   "execution_count": 39,
   "metadata": {},
   "outputs": [
    {
     "name": "stdout",
     "output_type": "stream",
     "text": [
      "10 sec\n"
     ]
    }
   ],
   "source": [
    "val_idx = compute_val_test_mask_v2(ratings)"
   ]
  },
  {
   "cell_type": "code",
   "execution_count": 42,
   "metadata": {},
   "outputs": [],
   "source": [
    "ratings.rename({\n",
    "    'userId': 'u_id',\n",
    "    'movieId': 'i_id',\n",
    "}, axis='columns', inplace=True)"
   ]
  },
  {
   "cell_type": "code",
   "execution_count": 44,
   "metadata": {},
   "outputs": [],
   "source": [
    "train = ratings.drop(val_idx).drop('timestamp', axis=1)\n",
    "dev = ratings.loc[val_idx].sample(frac=0.5, random_state=0).drop('timestamp', axis=1)\n",
    "val = ratings.loc[val_idx].drop(dev.index.tolist()).drop('timestamp', axis=1)"
   ]
  },
  {
   "cell_type": "markdown",
   "metadata": {},
   "source": [
    "## Train Model"
   ]
  },
  {
   "cell_type": "code",
   "execution_count": 45,
   "metadata": {},
   "outputs": [
    {
     "name": "stdout",
     "output_type": "stream",
     "text": [
      "Preprocessing data...\n",
      "\n",
      "Preprocessing data...\n",
      "\n",
      "Epoch 1/100  | val_loss: 0.97 - val_rmse: 0.98 - val_mae: 0.77 - took 2.8 sec\n",
      "Epoch 2/100  | val_loss: 0.94 - val_rmse: 0.97 - val_mae: 0.75 - took 1.4 sec\n",
      "Epoch 3/100  | val_loss: 0.92 - val_rmse: 0.96 - val_mae: 0.74 - took 1.4 sec\n",
      "Epoch 4/100  | val_loss: 0.91 - val_rmse: 0.95 - val_mae: 0.74 - took 1.5 sec\n",
      "Epoch 5/100  | val_loss: 0.90 - val_rmse: 0.95 - val_mae: 0.73 - took 1.5 sec\n",
      "Epoch 6/100  | val_loss: 0.89 - val_rmse: 0.95 - val_mae: 0.73 - took 1.5 sec\n",
      "Epoch 7/100  | val_loss: 0.89 - val_rmse: 0.94 - val_mae: 0.73 - took 1.5 sec\n",
      "Epoch 8/100  | val_loss: 0.88 - val_rmse: 0.94 - val_mae: 0.72 - took 1.5 sec\n",
      "Epoch 9/100  | val_loss: 0.88 - val_rmse: 0.94 - val_mae: 0.72 - took 1.4 sec\n",
      "Epoch 10/100 | val_loss: 0.87 - val_rmse: 0.93 - val_mae: 0.72 - took 1.5 sec\n",
      "Epoch 11/100 | val_loss: 0.87 - val_rmse: 0.93 - val_mae: 0.72 - took 1.5 sec\n",
      "Epoch 12/100 | val_loss: 0.87 - val_rmse: 0.93 - val_mae: 0.71 - took 1.5 sec\n",
      "Epoch 13/100 | val_loss: 0.86 - val_rmse: 0.93 - val_mae: 0.71 - took 1.5 sec\n",
      "Epoch 14/100 | val_loss: 0.86 - val_rmse: 0.93 - val_mae: 0.71 - took 1.5 sec\n",
      "Epoch 15/100 | val_loss: 0.85 - val_rmse: 0.92 - val_mae: 0.71 - took 1.5 sec\n",
      "Epoch 16/100 | val_loss: 0.85 - val_rmse: 0.92 - val_mae: 0.71 - took 1.6 sec\n",
      "Epoch 17/100 | val_loss: 0.84 - val_rmse: 0.92 - val_mae: 0.70 - took 1.6 sec\n",
      "Epoch 18/100 | val_loss: 0.84 - val_rmse: 0.92 - val_mae: 0.70 - took 1.5 sec\n",
      "Epoch 19/100 | val_loss: 0.83 - val_rmse: 0.91 - val_mae: 0.70 - took 1.5 sec\n",
      "Epoch 20/100 | val_loss: 0.83 - val_rmse: 0.91 - val_mae: 0.70 - took 1.4 sec\n",
      "Epoch 21/100 | val_loss: 0.83 - val_rmse: 0.91 - val_mae: 0.70 - took 1.5 sec\n",
      "Epoch 22/100 | val_loss: 0.82 - val_rmse: 0.91 - val_mae: 0.69 - took 1.6 sec\n",
      "Epoch 23/100 | val_loss: 0.82 - val_rmse: 0.90 - val_mae: 0.69 - took 1.5 sec\n",
      "Epoch 24/100 | val_loss: 0.81 - val_rmse: 0.90 - val_mae: 0.69 - took 1.5 sec\n",
      "Epoch 25/100 | val_loss: 0.81 - val_rmse: 0.90 - val_mae: 0.69 - took 1.5 sec\n",
      "Epoch 26/100 | val_loss: 0.81 - val_rmse: 0.90 - val_mae: 0.69 - took 1.5 sec\n",
      "Epoch 27/100 | val_loss: 0.80 - val_rmse: 0.90 - val_mae: 0.69 - took 1.5 sec\n",
      "Epoch 28/100 | val_loss: 0.80 - val_rmse: 0.89 - val_mae: 0.68 - took 1.5 sec\n",
      "Epoch 29/100 | val_loss: 0.80 - val_rmse: 0.89 - val_mae: 0.68 - took 1.5 sec\n",
      "Epoch 30/100 | val_loss: 0.79 - val_rmse: 0.89 - val_mae: 0.68 - took 1.5 sec\n",
      "Epoch 31/100 | val_loss: 0.79 - val_rmse: 0.89 - val_mae: 0.68 - took 1.4 sec\n",
      "Epoch 32/100 | val_loss: 0.79 - val_rmse: 0.89 - val_mae: 0.68 - took 1.4 sec\n",
      "Epoch 33/100 | val_loss: 0.78 - val_rmse: 0.89 - val_mae: 0.68 - took 1.4 sec\n",
      "Epoch 34/100 | val_loss: 0.78 - val_rmse: 0.88 - val_mae: 0.67 - took 1.4 sec\n",
      "Epoch 35/100 | val_loss: 0.78 - val_rmse: 0.88 - val_mae: 0.67 - took 1.5 sec\n",
      "Epoch 36/100 | val_loss: 0.78 - val_rmse: 0.88 - val_mae: 0.67 - took 1.5 sec\n",
      "Epoch 37/100 | val_loss: 0.77 - val_rmse: 0.88 - val_mae: 0.67 - took 1.4 sec\n",
      "Epoch 38/100 | val_loss: 0.77 - val_rmse: 0.88 - val_mae: 0.67 - took 1.4 sec\n",
      "Epoch 39/100 | val_loss: 0.77 - val_rmse: 0.88 - val_mae: 0.67 - took 1.5 sec\n",
      "Epoch 40/100 | val_loss: 0.77 - val_rmse: 0.88 - val_mae: 0.67 - took 1.5 sec\n",
      "Epoch 41/100 | val_loss: 0.77 - val_rmse: 0.87 - val_mae: 0.67 - took 1.5 sec\n",
      "Epoch 42/100 | val_loss: 0.76 - val_rmse: 0.87 - val_mae: 0.67 - took 1.5 sec\n",
      "Epoch 43/100 | val_loss: 0.76 - val_rmse: 0.87 - val_mae: 0.66 - took 1.5 sec\n",
      "\n",
      "Training took 1 min and 11 sec\n"
     ]
    },
    {
     "data": {
      "text/plain": [
       "<funk_svd.svd.SVD at 0x1c6bf829308>"
      ]
     },
     "execution_count": 45,
     "metadata": {},
     "output_type": "execute_result"
    }
   ],
   "source": [
    "svd = SVD(lr=0.001, reg=0.005, n_epochs=100, n_factors=15,\n",
    "          early_stopping=True, shuffle=False, min_rating=1, max_rating=5)\n",
    "\n",
    "svd.fit(X=train, X_val=dev)"
   ]
  },
  {
   "cell_type": "code",
   "execution_count": 46,
   "metadata": {},
   "outputs": [
    {
     "name": "stdout",
     "output_type": "stream",
     "text": [
      "Test RMSE: 0.87\n",
      "Test MAE:  0.66\n",
      "\n",
      "Wall time: 1.32 s\n"
     ]
    }
   ],
   "source": [
    "%%time\n",
    "\n",
    "pred = svd.predict(val)\n",
    "\n",
    "rmse = np.sqrt(mean_squared_error(val['rating'], pred))\n",
    "mae = mean_absolute_error(val['rating'], pred)\n",
    "\n",
    "print(f'Test RMSE: {rmse:.2f}')\n",
    "print(f'Test MAE:  {mae:.2f}')\n",
    "print()"
   ]
  },
  {
   "cell_type": "code",
   "execution_count": null,
   "metadata": {},
   "outputs": [],
   "source": []
  }
 ],
 "metadata": {
  "kernelspec": {
   "display_name": "recenv37",
   "language": "python",
   "name": "recenv37"
  },
  "language_info": {
   "codemirror_mode": {
    "name": "ipython",
    "version": 3
   },
   "file_extension": ".py",
   "mimetype": "text/x-python",
   "name": "python",
   "nbconvert_exporter": "python",
   "pygments_lexer": "ipython3",
   "version": "3.7.12"
  },
  "toc": {
   "base_numbering": 1,
   "nav_menu": {},
   "number_sections": true,
   "sideBar": true,
   "skip_h1_title": false,
   "title_cell": "Table of Contents",
   "title_sidebar": "Contents",
   "toc_cell": false,
   "toc_position": {},
   "toc_section_display": true,
   "toc_window_display": false
  }
 },
 "nbformat": 4,
 "nbformat_minor": 4
}
